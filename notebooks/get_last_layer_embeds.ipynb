{
 "cells": [
  {
   "cell_type": "code",
   "execution_count": 1,
   "metadata": {
    "collapsed": false
   },
   "outputs": [
    {
     "name": "stderr",
     "output_type": "stream",
     "text": [
      "Using Theano backend.\n",
      "Using gpu device 1: GeForce GTX TITAN X (CNMeM is enabled with initial size: 2500 MB, cuDNN 5005)\n"
     ]
    }
   ],
   "source": [
    "import numpy as np\n",
    "from keras import backend as K\n",
    "from keras.models import Sequential\n",
    "from keras.layers import Dense\n",
    "from keras.models import model_from_json\n",
    "import matplotlib.pyplot as plt\n",
    "from sklearn.manifold import TSNE"
   ]
  },
  {
   "cell_type": "code",
   "execution_count": 2,
   "metadata": {
    "collapsed": true
   },
   "outputs": [],
   "source": [
    "json_model = \"/mnt/lab_data/kundaje/users/pgreens/projects/hematopoiesis/deep_learning/model_files/hema_model_jason_only_feb7_idr_K562_GM12878_CV_corePeakSize_250_totalPeakSize_2000_negFlanks_Sequential_1D_model/record_1_model_GbsDh_modelJson.json\"\n",
    "weights_file = \"/mnt/lab_data/kundaje/users/pgreens/projects/hematopoiesis/deep_learning/model_files/hema_model_jason_only_feb7_idr_K562_GM12878_CV_corePeakSize_250_totalPeakSize_2000_negFlanks_Sequential_1D_model/record_1_model_GbsDh_modelWeights.h5\"\n",
    "#dnase_features_file = \"/users/mtaranov/dnaseEmbed_blood/data/seq_at_dnasePeaks_2kb_chr16.npy\"\n",
    "dnase_features_file = \"/users/mtaranov/dnaseEmbed_blood/data/seq_at_dnasePeaks_2kb.npy\"\n",
    "#dnase_features_file = \"/users/mtaranov/dnaseEmbed_blood/data/test_seq_at_dnasePeaks_2kb.npy\""
   ]
  },
  {
   "cell_type": "code",
   "execution_count": 3,
   "metadata": {
    "collapsed": true
   },
   "outputs": [],
   "source": [
    "X=np.load(dnase_features_file)"
   ]
  },
  {
   "cell_type": "code",
   "execution_count": 4,
   "metadata": {
    "collapsed": false
   },
   "outputs": [
    {
     "data": {
      "text/plain": [
       "(103298, 2000, 4)"
      ]
     },
     "execution_count": 4,
     "metadata": {},
     "output_type": "execute_result"
    }
   ],
   "source": [
    "X.shape"
   ]
  },
  {
   "cell_type": "code",
   "execution_count": 5,
   "metadata": {
    "collapsed": false
   },
   "outputs": [
    {
     "name": "stdout",
     "output_type": "stream",
     "text": [
      "Loaded model from disk\n"
     ]
    }
   ],
   "source": [
    "# load json and create model\n",
    "json_file = open(json_model, 'r')\n",
    "loaded_model_json = json_file.read()\n",
    "json_file.close()\n",
    "loaded_model = model_from_json(loaded_model_json)\n",
    "# load weights into new model\n",
    "loaded_model.load_weights(weights_file)\n",
    "print(\"Loaded model from disk\")"
   ]
  },
  {
   "cell_type": "code",
   "execution_count": 6,
   "metadata": {
    "collapsed": true
   },
   "outputs": [],
   "source": [
    "#predictions = loaded_model.predict(X)"
   ]
  },
  {
   "cell_type": "markdown",
   "metadata": {},
   "source": [
    "### Get Embeddings"
   ]
  },
  {
   "cell_type": "code",
   "execution_count": 7,
   "metadata": {
    "collapsed": true
   },
   "outputs": [],
   "source": [
    "import itertools\n",
    "\n",
    "def batch_iter(iterable, batch_size):\n",
    "    '''iterates in batches.\n",
    "    '''\n",
    "    it = iter(iterable)\n",
    "    try:\n",
    "        while True:\n",
    "            values = []\n",
    "            for n in xrange(batch_size):\n",
    "                values += (it.next(),)\n",
    "            yield values\n",
    "    except StopIteration:\n",
    "        # yield remaining values\n",
    "        yield values\n",
    "#        exit  \n",
    "\n",
    "def generate_from_array(array, batch_size=128):\n",
    "    \"\"\"\n",
    "    Generates the array in batches.\n",
    "    \"\"\"\n",
    "\n",
    "    batch_iterator = batch_iter(array, batch_size)\n",
    "    for array_batch in batch_iterator:\n",
    "        yield np.stack(array_batch, axis=0)"
   ]
  },
  {
   "cell_type": "code",
   "execution_count": 8,
   "metadata": {
    "collapsed": true
   },
   "outputs": [],
   "source": [
    "from keras.models import Model\n",
    "\n",
    "batch_size = 128\n",
    "generator = generate_from_array(X, batch_size=batch_size)\n",
    "\n",
    "intermediate_layer_model = Model(input=loaded_model.layers[0].input,\n",
    "                                   output=loaded_model.layers[-3].output)\n",
    "layer_output = np.vstack([intermediate_layer_model.predict_on_batch(batch) for batch in generator])"
   ]
  },
  {
   "cell_type": "code",
   "execution_count": 9,
   "metadata": {
    "collapsed": true
   },
   "outputs": [],
   "source": [
    "# # with a Sequential model\n",
    "# get_last_layer_output = K.function([loaded_model.layers[0].input, K.learning_phase()],\n",
    "#                                   [loaded_model.layers[-3].output])\n",
    "# layer_output = get_last_layer_output([X,0])[0]"
   ]
  },
  {
   "cell_type": "code",
   "execution_count": 10,
   "metadata": {
    "collapsed": true
   },
   "outputs": [],
   "source": [
    "np.save('/users/mtaranov/dnaseEmbed_blood/data/'+'layer_output.npy', layer_output)"
   ]
  },
  {
   "cell_type": "code",
   "execution_count": 5,
   "metadata": {
    "collapsed": false
   },
   "outputs": [],
   "source": [
    "first2comp = np.load('/users/mtaranov/dnaseEmbed_blood/data/tsne.npy')"
   ]
  },
  {
   "cell_type": "code",
   "execution_count": 6,
   "metadata": {
    "collapsed": false
   },
   "outputs": [
    {
     "data": {
      "text/plain": [
       "(103298, 2)"
      ]
     },
     "execution_count": 6,
     "metadata": {},
     "output_type": "execute_result"
    }
   ],
   "source": [
    "first2comp.shape"
   ]
  },
  {
   "cell_type": "code",
   "execution_count": 7,
   "metadata": {
    "collapsed": false
   },
   "outputs": [
    {
     "data": {
      "image/png": "[encoded data removed]",
      "text/plain": [
       "<matplotlib.figure.Figure at 0x7fc7e3362990>"
      ]
     },
     "metadata": {},
     "output_type": "display_data"
    }
   ],
   "source": [
    "plt.scatter(first2comp[:,0], first2comp[:,1])\n",
    "plt.title('TSNE')\n",
    "plt.show()"
   ]
  },
  {
   "cell_type": "code",
   "execution_count": null,
   "metadata": {
    "collapsed": true
   },
   "outputs": [],
   "source": []
  }
 ],
 "metadata": {
  "anaconda-cloud": {},
  "kernelspec": {
   "display_name": "Python [conda env:keras_1]",
   "language": "python",
   "name": "conda-env-keras_1-py"
  },
  "language_info": {
   "codemirror_mode": {
    "name": "ipython",
    "version": 2
   },
   "file_extension": ".py",
   "mimetype": "text/x-python",
   "name": "python",
   "nbconvert_exporter": "python",
   "pygments_lexer": "ipython2",
   "version": "2.7.12"
  }
 },
 "nbformat": 4,
 "nbformat_minor": 1
}
